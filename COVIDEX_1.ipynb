{
  "nbformat": 4,
  "nbformat_minor": 0,
  "metadata": {
    "colab": {
      "name": "COVIDEX_1.ipynb",
      "provenance": [],
      "collapsed_sections": [],
      "toc_visible": true
    },
    "kernelspec": {
      "name": "python3",
      "display_name": "Python 3"
    }
  },
  "cells": [
    {
      "cell_type": "markdown",
      "metadata": {
        "id": "pq-MJwH2qO3c",
        "colab_type": "text"
      },
      "source": [
        "# Get topics"
      ]
    },
    {
      "cell_type": "code",
      "metadata": {
        "id": "owH7xcxjqIid",
        "colab_type": "code",
        "outputId": "66a01aed-7102-41e8-adce-ee15179b26cf",
        "colab": {
          "base_uri": "https://localhost:8080/",
          "height": 204
        }
      },
      "source": [
        "! wget https://ir.nist.gov/covidSubmit/data/topics-rnd1.xml"
      ],
      "execution_count": 0,
      "outputs": [
        {
          "output_type": "stream",
          "text": [
            "--2020-04-18 09:40:32--  https://ir.nist.gov/covidSubmit/data/topics-rnd1.xml\n",
            "Resolving ir.nist.gov (ir.nist.gov)... 129.6.24.92, 2610:20:6005:24::92\n",
            "Connecting to ir.nist.gov (ir.nist.gov)|129.6.24.92|:443... connected.\n",
            "HTTP request sent, awaiting response... 200 OK\n",
            "Length: 10348 (10K) [application/xml]\n",
            "Saving to: ‘topics-rnd1.xml’\n",
            "\n",
            "\rtopics-rnd1.xml       0%[                    ]       0  --.-KB/s               \rtopics-rnd1.xml     100%[===================>]  10.11K  --.-KB/s    in 0.009s  \n",
            "\n",
            "2020-04-18 09:40:33 (1.04 MB/s) - ‘topics-rnd1.xml’ saved [10348/10348]\n",
            "\n"
          ],
          "name": "stdout"
        }
      ]
    },
    {
      "cell_type": "markdown",
      "metadata": {
        "id": "27OYVpDnxLsh",
        "colab_type": "text"
      },
      "source": [
        "## parse XML file to tsv file"
      ]
    },
    {
      "cell_type": "code",
      "metadata": {
        "id": "QweFLTmGuFtS",
        "colab_type": "code",
        "colab": {}
      },
      "source": [
        "from xml.dom import minidom\n",
        "\n",
        "# parse an xml file by name\n",
        "ftopics = minidom.parse('topics-rnd1.xml')\n",
        "\n",
        "topics = ftopics.getElementsByTagName('topic')\n",
        "\n",
        "# all topic attributes\n",
        "with open('topics_rnd1.tsv','w') as out:\n",
        "    for topic in topics:\n",
        "        qid = topic.attributes['number'].value\n",
        "        q = topic.getElementsByTagName(\"query\")[0]\n",
        "        query = q.firstChild.data\n",
        "        qst = topic.getElementsByTagName(\"question\")[0]\n",
        "        question = qst.firstChild.data\n",
        "        narr = topic.getElementsByTagName(\"narrative\")[0]\n",
        "        narrative = narr.firstChild.data\n",
        "\n",
        "        out.write(\"\\t\".join([qid, query, question, narrative])+\"\\n\")"
      ],
      "execution_count": 0,
      "outputs": []
    },
    {
      "cell_type": "code",
      "metadata": {
        "id": "3tQZHzG0tbFX",
        "colab_type": "code",
        "outputId": "d565148f-6797-4968-bc6f-e96dfa90710c",
        "colab": {
          "base_uri": "https://localhost:8080/",
          "height": 34
        }
      },
      "source": [
        "! wc -l topics_rnd1.tsv"
      ],
      "execution_count": 0,
      "outputs": [
        {
          "output_type": "stream",
          "text": [
            "30 topics_rnd1.tsv\n"
          ],
          "name": "stdout"
        }
      ]
    },
    {
      "cell_type": "markdown",
      "metadata": {
        "id": "rpKnGtCHxgiW",
        "colab_type": "text"
      },
      "source": [
        "# Retrieve top 1000 docs per topic using BM25"
      ]
    },
    {
      "cell_type": "markdown",
      "metadata": {
        "id": "F-vGbUlbx4HG",
        "colab_type": "text"
      },
      "source": [
        "## Get April 10 Covidex Index"
      ]
    },
    {
      "cell_type": "code",
      "metadata": {
        "id": "1G_WKh8lxZEN",
        "colab_type": "code",
        "outputId": "45b17874-44d6-4630-8281-440b1203a73d",
        "colab": {
          "base_uri": "https://localhost:8080/",
          "height": 445
        }
      },
      "source": [
        "! wget https://www.dropbox.com/s/j55t617yhvmegy8/lucene-index-covid-2020-04-10.tar.gz"
      ],
      "execution_count": 0,
      "outputs": [
        {
          "output_type": "stream",
          "text": [
            "--2020-04-18 10:13:48--  https://www.dropbox.com/s/j55t617yhvmegy8/lucene-index-covid-2020-04-10.tar.gz\n",
            "Resolving www.dropbox.com (www.dropbox.com)... 162.125.9.1, 2620:100:601f:1::a27d:901\n",
            "Connecting to www.dropbox.com (www.dropbox.com)|162.125.9.1|:443... connected.\n",
            "HTTP request sent, awaiting response... 301 Moved Permanently\n",
            "Location: /s/raw/j55t617yhvmegy8/lucene-index-covid-2020-04-10.tar.gz [following]\n",
            "--2020-04-18 10:13:48--  https://www.dropbox.com/s/raw/j55t617yhvmegy8/lucene-index-covid-2020-04-10.tar.gz\n",
            "Reusing existing connection to www.dropbox.com:443.\n",
            "HTTP request sent, awaiting response... 302 Found\n",
            "Location: https://uccbc7e714481b80f7b866060d09.dl.dropboxusercontent.com/cd/0/inline/A2EVHhUIEKU3Msp-d-UxHriSixcxY5bXxKZxGtLH3eNhZoKMspZ1vs6QhwExfm_-SPmwfCLhtFRg3yK3i3Fy6Eb8K5Fk1Hzz2d1XtOyXFQ0-W1F0i51E8FtAwsEqXeUYugU/file# [following]\n",
            "--2020-04-18 10:13:48--  https://uccbc7e714481b80f7b866060d09.dl.dropboxusercontent.com/cd/0/inline/A2EVHhUIEKU3Msp-d-UxHriSixcxY5bXxKZxGtLH3eNhZoKMspZ1vs6QhwExfm_-SPmwfCLhtFRg3yK3i3Fy6Eb8K5Fk1Hzz2d1XtOyXFQ0-W1F0i51E8FtAwsEqXeUYugU/file\n",
            "Resolving uccbc7e714481b80f7b866060d09.dl.dropboxusercontent.com (uccbc7e714481b80f7b866060d09.dl.dropboxusercontent.com)... 162.125.8.6, 2620:100:601f:6::a27d:906\n",
            "Connecting to uccbc7e714481b80f7b866060d09.dl.dropboxusercontent.com (uccbc7e714481b80f7b866060d09.dl.dropboxusercontent.com)|162.125.8.6|:443... connected.\n",
            "HTTP request sent, awaiting response... 302 FOUND\n",
            "Location: /cd/0/inline2/A2HrI-2InBy-fcy5Qr3EI1eBszyPkaiwXk1tN3SSZdBfXeRM63XEFPVQ5enx4hk6cAro3JSkZ09esDQPPPofzDv_8EBiswQiFWq-Y3aUeDd1yS1_Q8XUqTO_5VsW20R9hDKVZeU0n3PmDfGYaGZaVb4Jr7terw4-57FZR1tPgQSqabYrR2yOFrpgJApI7E6pRH9Wq5Dhk4HiGKANprTh8YlnmdsjLX66DHWmoUD20oq4On8E0ZRptIZVWXtyDF4F-Tu_HKDSFrSmJinqwDz-Vdg1YsiaRTjg26bxWu9Dzl73AIpeDKoc0zwmEDTVDwaQNz2JkxsLBII-3QT1FYtGC6NY3HWohR39R7e1PLwSxICfow/file [following]\n",
            "--2020-04-18 10:13:49--  https://uccbc7e714481b80f7b866060d09.dl.dropboxusercontent.com/cd/0/inline2/A2HrI-2InBy-fcy5Qr3EI1eBszyPkaiwXk1tN3SSZdBfXeRM63XEFPVQ5enx4hk6cAro3JSkZ09esDQPPPofzDv_8EBiswQiFWq-Y3aUeDd1yS1_Q8XUqTO_5VsW20R9hDKVZeU0n3PmDfGYaGZaVb4Jr7terw4-57FZR1tPgQSqabYrR2yOFrpgJApI7E6pRH9Wq5Dhk4HiGKANprTh8YlnmdsjLX66DHWmoUD20oq4On8E0ZRptIZVWXtyDF4F-Tu_HKDSFrSmJinqwDz-Vdg1YsiaRTjg26bxWu9Dzl73AIpeDKoc0zwmEDTVDwaQNz2JkxsLBII-3QT1FYtGC6NY3HWohR39R7e1PLwSxICfow/file\n",
            "Reusing existing connection to uccbc7e714481b80f7b866060d09.dl.dropboxusercontent.com:443.\n",
            "HTTP request sent, awaiting response... 200 OK\n",
            "Length: 1299233544 (1.2G) [application/octet-stream]\n",
            "Saving to: ‘lucene-index-covid-2020-04-10.tar.gz’\n",
            "\n",
            "lucene-index-covid- 100%[===================>]   1.21G  36.4MB/s    in 27s     \n",
            "\n",
            "2020-04-18 10:14:16 (46.3 MB/s) - ‘lucene-index-covid-2020-04-10.tar.gz’ saved [1299233544/1299233544]\n",
            "\n"
          ],
          "name": "stdout"
        }
      ]
    },
    {
      "cell_type": "code",
      "metadata": {
        "id": "dPhxCS0RyC_7",
        "colab_type": "code",
        "outputId": "86eeb37f-4aab-4150-acf9-b09ceca649b6",
        "colab": {
          "base_uri": "https://localhost:8080/",
          "height": 340
        }
      },
      "source": [
        "!tar xvfz lucene-index-covid-2020-04-10.tar.gz"
      ],
      "execution_count": 0,
      "outputs": [
        {
          "output_type": "stream",
          "text": [
            "lucene-index-covid-2020-04-10/\n",
            "lucene-index-covid-2020-04-10/_0.si\n",
            "lucene-index-covid-2020-04-10/_0.fnm\n",
            "lucene-index-covid-2020-04-10/_0.fdx\n",
            "lucene-index-covid-2020-04-10/_0.tvx\n",
            "lucene-index-covid-2020-04-10/_0.tvd\n",
            "lucene-index-covid-2020-04-10/_0.dii\n",
            "lucene-index-covid-2020-04-10/_0_Lucene50_0.pos\n",
            "lucene-index-covid-2020-04-10/_0_Lucene50_0.tip\n",
            "lucene-index-covid-2020-04-10/_0_Lucene50_0.tim\n",
            "lucene-index-covid-2020-04-10/_0.nvd\n",
            "lucene-index-covid-2020-04-10/_0.nvm\n",
            "lucene-index-covid-2020-04-10/_0_Lucene50_0.doc\n",
            "lucene-index-covid-2020-04-10/segments_1\n",
            "lucene-index-covid-2020-04-10/_0.fdt\n",
            "lucene-index-covid-2020-04-10/write.lock\n",
            "lucene-index-covid-2020-04-10/_0.dim\n",
            "lucene-index-covid-2020-04-10/_0_Lucene80_0.dvd\n",
            "lucene-index-covid-2020-04-10/_0_Lucene80_0.dvm\n"
          ],
          "name": "stdout"
        }
      ]
    },
    {
      "cell_type": "code",
      "metadata": {
        "id": "UFwb-Uq_yJkz",
        "colab_type": "code",
        "outputId": "451afb07-fd74-4a03-b88e-69c666324f60",
        "colab": {
          "base_uri": "https://localhost:8080/",
          "height": 34
        }
      },
      "source": [
        "!du -h lucene-index-covid-2020-04-10"
      ],
      "execution_count": 0,
      "outputs": [
        {
          "output_type": "stream",
          "text": [
            "1.6G\tlucene-index-covid-2020-04-10\n"
          ],
          "name": "stdout"
        }
      ]
    },
    {
      "cell_type": "markdown",
      "metadata": {
        "id": "0ntLXUyYJ-KU",
        "colab_type": "text"
      },
      "source": [
        "## Doc ids concerned "
      ]
    },
    {
      "cell_type": "code",
      "metadata": {
        "id": "YrWs2Op8J7kC",
        "colab_type": "code",
        "outputId": "6abb9143-a70e-4612-bfb8-93d09e645f67",
        "colab": {
          "base_uri": "https://localhost:8080/",
          "height": 204
        }
      },
      "source": [
        "! wget https://ir.nist.gov/covidSubmit/data/docids-rnd1.txt"
      ],
      "execution_count": 0,
      "outputs": [
        {
          "output_type": "stream",
          "text": [
            "--2020-04-18 11:59:37--  https://ir.nist.gov/covidSubmit/data/docids-rnd1.txt\n",
            "Resolving ir.nist.gov (ir.nist.gov)... 129.6.24.92, 2610:20:6005:24::92\n",
            "Connecting to ir.nist.gov (ir.nist.gov)|129.6.24.92|:443... connected.\n",
            "HTTP request sent, awaiting response... 200 OK\n",
            "Length: 459972 (449K) [text/plain]\n",
            "Saving to: ‘docids-rnd1.txt’\n",
            "\n",
            "docids-rnd1.txt     100%[===================>] 449.19K   655KB/s    in 0.7s    \n",
            "\n",
            "2020-04-18 11:59:38 (655 KB/s) - ‘docids-rnd1.txt’ saved [459972/459972]\n",
            "\n"
          ],
          "name": "stdout"
        }
      ]
    },
    {
      "cell_type": "code",
      "metadata": {
        "id": "CSVkA0TyKd3o",
        "colab_type": "code",
        "outputId": "c53fa3ce-08ba-476a-d976-3135487cfec0",
        "colab": {
          "base_uri": "https://localhost:8080/",
          "height": 34
        }
      },
      "source": [
        "! wc -l /content/docids-rnd1.txt"
      ],
      "execution_count": 0,
      "outputs": [
        {
          "output_type": "stream",
          "text": [
            "51103 /content/docids-rnd1.txt\n"
          ],
          "name": "stdout"
        }
      ]
    },
    {
      "cell_type": "code",
      "metadata": {
        "id": "Uz28ipsiKGc3",
        "colab_type": "code",
        "outputId": "baf0e83f-ad69-48e5-8f50-0c5504f9f09b",
        "colab": {
          "base_uri": "https://localhost:8080/",
          "height": 34
        }
      },
      "source": [
        "valid_doc_ids = set()\n",
        "l=[]\n",
        "with open('/content/docids-rnd1.txt') as f:\n",
        "  for line in f:\n",
        "    l.append(line.rstrip())\n",
        "valid_doc_ids = set(l)\n",
        "len(valid_doc_ids), len(l)"
      ],
      "execution_count": 0,
      "outputs": [
        {
          "output_type": "execute_result",
          "data": {
            "text/plain": [
              "(51070, 51103)"
            ]
          },
          "metadata": {
            "tags": []
          },
          "execution_count": 114
        }
      ]
    },
    {
      "cell_type": "markdown",
      "metadata": {
        "id": "uYMk2pAPzc7s",
        "colab_type": "text"
      },
      "source": [
        "## Retrieval with index\n"
      ]
    },
    {
      "cell_type": "code",
      "metadata": {
        "id": "krRAebiczldN",
        "colab_type": "code",
        "colab": {}
      },
      "source": [
        "%%capture\n",
        "!pip install pyserini==0.8.1.0\n",
        "\n",
        "import json\n",
        "import os\n",
        "os.environ[\"JAVA_HOME\"] = \"/usr/lib/jvm/java-11-openjdk-amd64\"\n",
        "# os.environ[\"JAVA_HOME\"] = \"/Library/Java/JavaVirtualMachines/jdk-13.0.2.jdk/Contents/Home\""
      ],
      "execution_count": 0,
      "outputs": []
    },
    {
      "cell_type": "code",
      "metadata": {
        "id": "OMC0hswzzq71",
        "colab_type": "code",
        "colab": {}
      },
      "source": [
        "from pyserini.search import pysearch\n",
        "\n",
        "COVID_INDEX = '/content/lucene-index-covid-2020-04-10'\n",
        "\n",
        "searcher = pysearch.SimpleSearcher(COVID_INDEX)\n",
        "searcher.set_bm25_similarity(k1=0.9, b=0.4)\n",
        "searcher.set_rm3_reranker()"
      ],
      "execution_count": 0,
      "outputs": []
    },
    {
      "cell_type": "code",
      "metadata": {
        "id": "IGyTp_Ue5Gzm",
        "colab_type": "code",
        "colab": {}
      },
      "source": [
        "import re\n",
        "\n",
        "def clean_html(html):\n",
        "    \"\"\"\n",
        "    Copied from NLTK package.\n",
        "    Remove HTML markup from the given string.\n",
        "    :param html: the HTML string to be cleaned\n",
        "    :type html: str\n",
        "    :rtype: str\n",
        "    \"\"\"\n",
        "    html = str(html)\n",
        "    # First we remove inline JavaScript/CSS:\n",
        "    cleaned = re.sub(r\"(?is)<(script|style).*?>.*?(</\\1>)\", \"\", html.strip())\n",
        "    # Then we remove html comments. This has to be done before removing regular\n",
        "    # tags since comments can contain '>' characters.\n",
        "    cleaned = re.sub(r\"(?s)<!--(.*?)-->[\\n]?\", \"\", cleaned)\n",
        "    # Next we can remove the remaining tags:\n",
        "    cleaned = re.sub(r\"(?s)<.*?>\", \" \", cleaned)\n",
        "    # Finally, we deal with whitespace\n",
        "    cleaned = re.sub(r\"&nbsp;\", \" \", cleaned)\n",
        "    cleaned = re.sub(r\"  \", \" \", cleaned)\n",
        "    cleaned = re.sub(r\"\\t\", \" \", cleaned)\n",
        "    return cleaned.strip()"
      ],
      "execution_count": 0,
      "outputs": []
    },
    {
      "cell_type": "code",
      "metadata": {
        "id": "xJlPD5I00dJi",
        "colab_type": "code",
        "colab": {}
      },
      "source": [
        "def search_document(searcher, topics, output_fn, collection='TREC-COVID', K=1000):\n",
        "        with open(f\"{output_fn}.tsv\", 'w', encoding='utf-8') as out, open(f\"{output_fn}_docs.tsv\", 'w', encoding='utf-8') as out_docs:\n",
        "            for qid in topics:\n",
        "                query = topics[qid]\n",
        "                hits = searcher.search(query, K)\n",
        "                for i in range(len(hits)):\n",
        "                    sim = hits[i].score\n",
        "                    docno = hits[i].docid\n",
        "                    label = 0\n",
        "                    title = hits[i].lucene_document.get(\"title\")\n",
        "                    abstract = hits[i].lucene_document.get(\"abstract\") \n",
        "                    \n",
        "                    clean_abstract = clean_html(abstract)\n",
        "\n",
        "                    out.write('{}\\t{}\\t{}\\t{}\\t{}\\n'.format(qid, docno,round(float(sim), 11), i+1, label))\n",
        "                    out.flush()\n",
        "                    out_docs.write('{}\\t{}\\t{}\\n'.format(docno, title, clean_abstract))\n",
        "                    out_docs.flush()"
      ],
      "execution_count": 0,
      "outputs": []
    },
    {
      "cell_type": "code",
      "metadata": {
        "id": "HDEj_Ydc1Las",
        "colab_type": "code",
        "outputId": "01030b64-39dd-4a44-e66a-4ad784f602c9",
        "colab": {
          "base_uri": "https://localhost:8080/",
          "height": 68
        }
      },
      "source": [
        "def load_queries(path):\n",
        "    queries = {}\n",
        "    with open(path) as f:\n",
        "        for i, line in enumerate(f):\n",
        "                query_id, query, question, _ = line.rstrip().split('\\t')\n",
        "                queries[query_id] = question\n",
        "                if i % 10 == 0:\n",
        "                    print('Loading queries {}'.format(i))\n",
        "    return queries\n",
        "topics = load_queries('/content/topics_rnd1.tsv')"
      ],
      "execution_count": 0,
      "outputs": [
        {
          "output_type": "stream",
          "text": [
            "Loading queries 0\n",
            "Loading queries 10\n",
            "Loading queries 20\n"
          ],
          "name": "stdout"
        }
      ]
    },
    {
      "cell_type": "code",
      "metadata": {
        "id": "xW5-UGOt15Le",
        "colab_type": "code",
        "colab": {}
      },
      "source": [
        "search_document(searcher, topics, 'COVID_run', K=1000)"
      ],
      "execution_count": 0,
      "outputs": []
    },
    {
      "cell_type": "code",
      "metadata": {
        "id": "G6Tq2r7C5iJv",
        "colab_type": "code",
        "outputId": "05e9bec3-fc03-4426-c4f0-3cbd40a92c31",
        "colab": {
          "base_uri": "https://localhost:8080/",
          "height": 34
        }
      },
      "source": [
        "! wc -l CORD19_run_1_docs.tsv"
      ],
      "execution_count": 0,
      "outputs": [
        {
          "output_type": "stream",
          "text": [
            "30000 CORD19_run_1_docs.tsv\n"
          ],
          "name": "stdout"
        }
      ]
    },
    {
      "cell_type": "code",
      "metadata": {
        "id": "CZKo2z4zIM9g",
        "colab_type": "code",
        "outputId": "ad10ed56-e3b4-4ffd-ae76-7724a933bc74",
        "colab": {
          "base_uri": "https://localhost:8080/",
          "height": 204
        }
      },
      "source": [
        "import pandas as pd\n",
        "\n",
        "docs = pd.read_csv('/content/COVID_run_docs.tsv', delimiter='\\t', header =None, index_col=None, names=['did','title','abstract'])\n",
        "docs.head()"
      ],
      "execution_count": 0,
      "outputs": [
        {
          "output_type": "execute_result",
          "data": {
            "text/html": [
              "<div>\n",
              "<style scoped>\n",
              "    .dataframe tbody tr th:only-of-type {\n",
              "        vertical-align: middle;\n",
              "    }\n",
              "\n",
              "    .dataframe tbody tr th {\n",
              "        vertical-align: top;\n",
              "    }\n",
              "\n",
              "    .dataframe thead th {\n",
              "        text-align: right;\n",
              "    }\n",
              "</style>\n",
              "<table border=\"1\" class=\"dataframe\">\n",
              "  <thead>\n",
              "    <tr style=\"text-align: right;\">\n",
              "      <th></th>\n",
              "      <th>qid</th>\n",
              "      <th>did</th>\n",
              "      <th>sim</th>\n",
              "      <th>rank</th>\n",
              "      <th>rel</th>\n",
              "    </tr>\n",
              "  </thead>\n",
              "  <tbody>\n",
              "    <tr>\n",
              "      <th>0</th>\n",
              "      <td>1</td>\n",
              "      <td>pyeb86on</td>\n",
              "      <td>2.005700</td>\n",
              "      <td>1</td>\n",
              "      <td>0</td>\n",
              "    </tr>\n",
              "    <tr>\n",
              "      <th>1</th>\n",
              "      <td>1</td>\n",
              "      <td>az1puj81</td>\n",
              "      <td>1.865900</td>\n",
              "      <td>2</td>\n",
              "      <td>0</td>\n",
              "    </tr>\n",
              "    <tr>\n",
              "      <th>2</th>\n",
              "      <td>1</td>\n",
              "      <td>nror02j6</td>\n",
              "      <td>1.856600</td>\n",
              "      <td>3</td>\n",
              "      <td>0</td>\n",
              "    </tr>\n",
              "    <tr>\n",
              "      <th>3</th>\n",
              "      <td>1</td>\n",
              "      <td>9pl7mta8</td>\n",
              "      <td>1.837400</td>\n",
              "      <td>4</td>\n",
              "      <td>0</td>\n",
              "    </tr>\n",
              "    <tr>\n",
              "      <th>4</th>\n",
              "      <td>1</td>\n",
              "      <td>ke5967zx</td>\n",
              "      <td>1.837399</td>\n",
              "      <td>5</td>\n",
              "      <td>0</td>\n",
              "    </tr>\n",
              "  </tbody>\n",
              "</table>\n",
              "</div>"
            ],
            "text/plain": [
              "   qid       did       sim  rank  rel\n",
              "0    1  pyeb86on  2.005700     1    0\n",
              "1    1  az1puj81  1.865900     2    0\n",
              "2    1  nror02j6  1.856600     3    0\n",
              "3    1  9pl7mta8  1.837400     4    0\n",
              "4    1  ke5967zx  1.837399     5    0"
            ]
          },
          "metadata": {
            "tags": []
          },
          "execution_count": 120
        }
      ]
    },
    {
      "cell_type": "code",
      "metadata": {
        "id": "fgGgx8ylJrj_",
        "colab_type": "code",
        "outputId": "2e80cc3b-375c-4dc9-cd50-a6763d6919e1",
        "colab": {
          "base_uri": "https://localhost:8080/",
          "height": 34
        }
      },
      "source": [
        "docs_ = docs.drop_duplicates(['did'])\n",
        "len(docs_)"
      ],
      "execution_count": 0,
      "outputs": [
        {
          "output_type": "execute_result",
          "data": {
            "text/plain": [
              "9581"
            ]
          },
          "metadata": {
            "tags": []
          },
          "execution_count": 104
        }
      ]
    },
    {
      "cell_type": "code",
      "metadata": {
        "id": "8r_ixRlrI1UM",
        "colab_type": "code",
        "outputId": "368cb871-d44c-4702-e9cd-488ab683db96",
        "colab": {
          "base_uri": "https://localhost:8080/",
          "height": 49
        }
      },
      "source": [
        "docs_[docs_['abstract'].isna()]"
      ],
      "execution_count": 0,
      "outputs": [
        {
          "output_type": "execute_result",
          "data": {
            "text/html": [
              "<div>\n",
              "<style scoped>\n",
              "    .dataframe tbody tr th:only-of-type {\n",
              "        vertical-align: middle;\n",
              "    }\n",
              "\n",
              "    .dataframe tbody tr th {\n",
              "        vertical-align: top;\n",
              "    }\n",
              "\n",
              "    .dataframe thead th {\n",
              "        text-align: right;\n",
              "    }\n",
              "</style>\n",
              "<table border=\"1\" class=\"dataframe\">\n",
              "  <thead>\n",
              "    <tr style=\"text-align: right;\">\n",
              "      <th></th>\n",
              "      <th>did</th>\n",
              "      <th>title</th>\n",
              "      <th>abstract</th>\n",
              "    </tr>\n",
              "  </thead>\n",
              "  <tbody>\n",
              "  </tbody>\n",
              "</table>\n",
              "</div>"
            ],
            "text/plain": [
              "Empty DataFrame\n",
              "Columns: [did, title, abstract]\n",
              "Index: []"
            ]
          },
          "metadata": {
            "tags": []
          },
          "execution_count": 105
        }
      ]
    },
    {
      "cell_type": "code",
      "metadata": {
        "id": "6OIwxvY7I9Vp",
        "colab_type": "code",
        "colab": {}
      },
      "source": [
        "docs_['abstract'] = docs_['abstract'].fillna('.')"
      ],
      "execution_count": 0,
      "outputs": []
    },
    {
      "cell_type": "code",
      "metadata": {
        "id": "kWVJsL8OJbPg",
        "colab_type": "code",
        "outputId": "41e62756-c2db-47af-baab-1064fa11e313",
        "colab": {
          "base_uri": "https://localhost:8080/",
          "height": 34
        }
      },
      "source": [
        "docs_ = docs_[docs_['did'].isin(valid_doc_ids)]\n",
        "len(docs_)"
      ],
      "execution_count": 0,
      "outputs": [
        {
          "output_type": "execute_result",
          "data": {
            "text/plain": [
              "9581"
            ]
          },
          "metadata": {
            "tags": []
          },
          "execution_count": 115
        }
      ]
    },
    {
      "cell_type": "code",
      "metadata": {
        "id": "K0NvbUh9JGJe",
        "colab_type": "code",
        "colab": {}
      },
      "source": [
        "docs_.to_csv('CORD19_run_1_docs.tsv', sep='\\t', header=None, index=None)"
      ],
      "execution_count": 0,
      "outputs": []
    },
    {
      "cell_type": "code",
      "metadata": {
        "id": "Dqc9S9kYLb5E",
        "colab_type": "code",
        "outputId": "6b4f6218-9ec4-4ee4-b57f-cf00679f1c04",
        "colab": {
          "base_uri": "https://localhost:8080/",
          "height": 34
        }
      },
      "source": [
        "! wc -l CORD19_run_1_docs.tsv"
      ],
      "execution_count": 0,
      "outputs": [
        {
          "output_type": "stream",
          "text": [
            "9581 CORD19_run_1_docs.tsv\n"
          ],
          "name": "stdout"
        }
      ]
    },
    {
      "cell_type": "code",
      "metadata": {
        "id": "I-MjgOvONjv9",
        "colab_type": "code",
        "outputId": "ef390721-efdb-43ac-c224-5e1fb5cc3503",
        "colab": {
          "base_uri": "https://localhost:8080/",
          "height": 204
        }
      },
      "source": [
        "run = pd.read_csv('/content/COVID_run.tsv', delimiter='\\t', header =None, index_col=None, names=['qid','did','sim','rank','rel'])\n",
        "run.head()"
      ],
      "execution_count": 0,
      "outputs": [
        {
          "output_type": "execute_result",
          "data": {
            "text/html": [
              "<div>\n",
              "<style scoped>\n",
              "    .dataframe tbody tr th:only-of-type {\n",
              "        vertical-align: middle;\n",
              "    }\n",
              "\n",
              "    .dataframe tbody tr th {\n",
              "        vertical-align: top;\n",
              "    }\n",
              "\n",
              "    .dataframe thead th {\n",
              "        text-align: right;\n",
              "    }\n",
              "</style>\n",
              "<table border=\"1\" class=\"dataframe\">\n",
              "  <thead>\n",
              "    <tr style=\"text-align: right;\">\n",
              "      <th></th>\n",
              "      <th>qid</th>\n",
              "      <th>did</th>\n",
              "      <th>sim</th>\n",
              "      <th>rank</th>\n",
              "      <th>rel</th>\n",
              "    </tr>\n",
              "  </thead>\n",
              "  <tbody>\n",
              "    <tr>\n",
              "      <th>0</th>\n",
              "      <td>1</td>\n",
              "      <td>pyeb86on</td>\n",
              "      <td>2.005700</td>\n",
              "      <td>1</td>\n",
              "      <td>0</td>\n",
              "    </tr>\n",
              "    <tr>\n",
              "      <th>1</th>\n",
              "      <td>1</td>\n",
              "      <td>az1puj81</td>\n",
              "      <td>1.865900</td>\n",
              "      <td>2</td>\n",
              "      <td>0</td>\n",
              "    </tr>\n",
              "    <tr>\n",
              "      <th>2</th>\n",
              "      <td>1</td>\n",
              "      <td>nror02j6</td>\n",
              "      <td>1.856600</td>\n",
              "      <td>3</td>\n",
              "      <td>0</td>\n",
              "    </tr>\n",
              "    <tr>\n",
              "      <th>3</th>\n",
              "      <td>1</td>\n",
              "      <td>9pl7mta8</td>\n",
              "      <td>1.837400</td>\n",
              "      <td>4</td>\n",
              "      <td>0</td>\n",
              "    </tr>\n",
              "    <tr>\n",
              "      <th>4</th>\n",
              "      <td>1</td>\n",
              "      <td>ke5967zx</td>\n",
              "      <td>1.837399</td>\n",
              "      <td>5</td>\n",
              "      <td>0</td>\n",
              "    </tr>\n",
              "  </tbody>\n",
              "</table>\n",
              "</div>"
            ],
            "text/plain": [
              "   qid       did       sim  rank  rel\n",
              "0    1  pyeb86on  2.005700     1    0\n",
              "1    1  az1puj81  1.865900     2    0\n",
              "2    1  nror02j6  1.856600     3    0\n",
              "3    1  9pl7mta8  1.837400     4    0\n",
              "4    1  ke5967zx  1.837399     5    0"
            ]
          },
          "metadata": {
            "tags": []
          },
          "execution_count": 131
        }
      ]
    },
    {
      "cell_type": "code",
      "metadata": {
        "id": "8L1OU7PrNnOm",
        "colab_type": "code",
        "outputId": "ff87d432-6a15-47f2-ef2a-33c0ddabf23c",
        "colab": {
          "base_uri": "https://localhost:8080/",
          "height": 34
        }
      },
      "source": [
        "run_ = run[run['did'].isin(valid_doc_ids)]\n",
        "len(run_)"
      ],
      "execution_count": 0,
      "outputs": [
        {
          "output_type": "execute_result",
          "data": {
            "text/plain": [
              "30000"
            ]
          },
          "metadata": {
            "tags": []
          },
          "execution_count": 132
        }
      ]
    },
    {
      "cell_type": "code",
      "metadata": {
        "id": "c8TlGIaSb0uh",
        "colab_type": "code",
        "outputId": "86af7afd-7813-4a87-b9b2-7fdc6e03ce46",
        "colab": {
          "base_uri": "https://localhost:8080/",
          "height": 34
        }
      },
      "source": [
        "duplicateRowsDF = run[run.duplicated(['qid','did'], keep='last')]\n",
        "len(duplicateRowsDF)"
      ],
      "execution_count": 0,
      "outputs": [
        {
          "output_type": "execute_result",
          "data": {
            "text/plain": [
              "6"
            ]
          },
          "metadata": {
            "tags": []
          },
          "execution_count": 144
        }
      ]
    },
    {
      "cell_type": "markdown",
      "metadata": {
        "id": "HwhRU1h4ZCrH",
        "colab_type": "text"
      },
      "source": [
        "# Create Run document level from passage level"
      ]
    },
    {
      "cell_type": "code",
      "metadata": {
        "id": "tMlC5xAkZIa4",
        "colab_type": "code",
        "outputId": "a814d320-85bf-40b3-b997-88d930216106",
        "colab": {
          "base_uri": "https://localhost:8080/",
          "height": 122
        }
      },
      "source": [
        "from google.colab import drive\n",
        "drive.mount('/content/drive', force_remount=True)"
      ],
      "execution_count": 0,
      "outputs": [
        {
          "output_type": "stream",
          "text": [
            "Go to this URL in a browser: https://accounts.google.com/o/oauth2/auth?client_id=947318989803-6bn6qk8qdgf4n4g3pfee6491hc0brc4i.apps.googleusercontent.com&redirect_uri=urn%3aietf%3awg%3aoauth%3a2.0%3aoob&response_type=code&scope=email%20https%3a%2f%2fwww.googleapis.com%2fauth%2fdocs.test%20https%3a%2f%2fwww.googleapis.com%2fauth%2fdrive%20https%3a%2f%2fwww.googleapis.com%2fauth%2fdrive.photos.readonly%20https%3a%2f%2fwww.googleapis.com%2fauth%2fpeopleapi.readonly\n",
            "\n",
            "Enter your authorization code:\n",
            "··········\n",
            "Mounted at /content/drive\n"
          ],
          "name": "stdout"
        }
      ]
    },
    {
      "cell_type": "code",
      "metadata": {
        "id": "5_5OeP8hRNKx",
        "colab_type": "code",
        "colab": {}
      },
      "source": [
        "preds_path= \"/content/drive/My Drive/preds/cord19\""
      ],
      "execution_count": 0,
      "outputs": []
    },
    {
      "cell_type": "code",
      "metadata": {
        "id": "0k65BiXUOc6V",
        "colab_type": "code",
        "outputId": "7cb63583-8943-4831-ce6e-45cc2842909b",
        "colab": {
          "base_uri": "https://localhost:8080/",
          "height": 221
        }
      },
      "source": [
        "\n",
        "runs = ['base','un_pair','mu_pair']\n",
        "for run in runs:\n",
        "        preds = pd.read_csv(f'{preds_path}/predictions_cord19_1_{run}.tsv', header=None, index_col=None, delimiter='\\t', names=['id','pred','label'], dtype={'id':str})\n",
        "        print(len(preds))\n",
        "\n",
        "        query_doc_ids = pd.read_csv(f'{preds_path}/query_doc_ids_{run}.tsv', header=None, index_col=None, delimiter='\\t', names=['id','qid','did','pass'], dtype={'id':str, 'qid':str,'did':str})\n",
        "        print(len(query_doc_ids))\n",
        "\n",
        "        preds_with_ids = pd.merge(preds,query_doc_ids, on='id')\n",
        "        print(len(preds_with_ids))\n",
        "\n",
        "        df = preds_with_ids.sort_values(by=['qid','did','pred'], ascending=[True,True,False])\n",
        "        df['pred_max']=df.groupby(['qid','did'], sort=False)['pred'].transform(max)\n",
        "        df= df.drop_duplicates(['qid','did'], keep='first')\n",
        "        df = df.sort_values(by=['qid','pred_max'], ascending=[True, False])\n",
        "        print(len(df))\n",
        "        df.to_csv(f'{preds_path}/rank_predictions_cord19_1_{run}.tsv', sep='\\t', header=None, index=None, columns=['qid','did','pass','pred_max'])"
      ],
      "execution_count": 0,
      "outputs": [
        {
          "output_type": "stream",
          "text": [
            "41941\n",
            "41941\n",
            "41941\n",
            "29994\n",
            "43359\n",
            "43359\n",
            "43359\n",
            "29994\n",
            "43359\n",
            "43359\n",
            "43359\n",
            "29994\n"
          ],
          "name": "stdout"
        }
      ]
    },
    {
      "cell_type": "code",
      "metadata": {
        "id": "5hbiYT7vew05",
        "colab_type": "code",
        "outputId": "4541ec09-5891-4128-f7fe-d4d9c4d4e2f4",
        "colab": {
          "base_uri": "https://localhost:8080/",
          "height": 204
        }
      },
      "source": [
        "run_rank = pd.read_csv(f'{preds_path}/rank_predictions_cord19_1_{run}.tsv', header=None, index_col=None, delimiter='\\t', names=['qid','did','pass','pred_max'], dtype={'id':str})\n",
        "run_rank.head()"
      ],
      "execution_count": 0,
      "outputs": [
        {
          "output_type": "execute_result",
          "data": {
            "text/html": [
              "<div>\n",
              "<style scoped>\n",
              "    .dataframe tbody tr th:only-of-type {\n",
              "        vertical-align: middle;\n",
              "    }\n",
              "\n",
              "    .dataframe tbody tr th {\n",
              "        vertical-align: top;\n",
              "    }\n",
              "\n",
              "    .dataframe thead th {\n",
              "        text-align: right;\n",
              "    }\n",
              "</style>\n",
              "<table border=\"1\" class=\"dataframe\">\n",
              "  <thead>\n",
              "    <tr style=\"text-align: right;\">\n",
              "      <th></th>\n",
              "      <th>qid</th>\n",
              "      <th>did</th>\n",
              "      <th>pass</th>\n",
              "      <th>pred_max</th>\n",
              "    </tr>\n",
              "  </thead>\n",
              "  <tbody>\n",
              "    <tr>\n",
              "      <th>0</th>\n",
              "      <td>1</td>\n",
              "      <td>jbtrdvhe</td>\n",
              "      <td>0</td>\n",
              "      <td>2.097322</td>\n",
              "    </tr>\n",
              "    <tr>\n",
              "      <th>1</th>\n",
              "      <td>1</td>\n",
              "      <td>msohf5oa</td>\n",
              "      <td>0</td>\n",
              "      <td>1.966619</td>\n",
              "    </tr>\n",
              "    <tr>\n",
              "      <th>2</th>\n",
              "      <td>1</td>\n",
              "      <td>ec8lpgl3</td>\n",
              "      <td>0</td>\n",
              "      <td>1.920891</td>\n",
              "    </tr>\n",
              "    <tr>\n",
              "      <th>3</th>\n",
              "      <td>1</td>\n",
              "      <td>xuczplaf</td>\n",
              "      <td>0</td>\n",
              "      <td>1.888572</td>\n",
              "    </tr>\n",
              "    <tr>\n",
              "      <th>4</th>\n",
              "      <td>1</td>\n",
              "      <td>dqxfcwyu</td>\n",
              "      <td>0</td>\n",
              "      <td>1.857632</td>\n",
              "    </tr>\n",
              "  </tbody>\n",
              "</table>\n",
              "</div>"
            ],
            "text/plain": [
              "   qid       did  pass  pred_max\n",
              "0    1  jbtrdvhe     0  2.097322\n",
              "1    1  msohf5oa     0  1.966619\n",
              "2    1  ec8lpgl3     0  1.920891\n",
              "3    1  xuczplaf     0  1.888572\n",
              "4    1  dqxfcwyu     0  1.857632"
            ]
          },
          "metadata": {
            "tags": []
          },
          "execution_count": 150
        }
      ]
    },
    {
      "cell_type": "code",
      "metadata": {
        "id": "FecUWnZRNkKD",
        "colab_type": "code",
        "colab": {}
      },
      "source": [
        "tag = \"IRIT_marked\"\n",
        "runs = ['base','un_pair','mu_pair'] #'un_pass','un_pair','mu_pass',\n",
        "for run in runs:\n",
        "  with open(f'{preds_path}/run_trec_{run}.txt','w') as out:\n",
        "    with open(f'{preds_path}/rank_predictions_cord19_1_{run}.tsv') as f:\n",
        "      query=''\n",
        "      for line in f:\n",
        "        qid,did,pass_num,pred_max = line.rstrip().split('\\t')\n",
        "        if qid != query:\n",
        "          query = qid\n",
        "          rank = 1\n",
        "        out.write(f\"{qid} Q0 {did} {rank} {pred_max} {tag}_{run}\\n\")\n",
        "        rank +=1"
      ],
      "execution_count": 0,
      "outputs": []
    },
    {
      "cell_type": "code",
      "metadata": {
        "id": "NskaZl33USNM",
        "colab_type": "code",
        "colab": {}
      },
      "source": [
        "! gzip /content/drive/My\\ Drive/preds/cord19/run_trec_mu_pair.txt"
      ],
      "execution_count": 0,
      "outputs": []
    },
    {
      "cell_type": "markdown",
      "metadata": {
        "id": "kXWY5dFyUTYi",
        "colab_type": "text"
      },
      "source": [
        "We use a BERT-base (12 layers, 768 hidden size) fine-tuned on Ms Marco passage set. We use a full ranking strategy with two stages: in the first stage, we use Anserini Bm25+ RM3 to retrieve top-1000 candidate documents for each topic using an index on the title+abstract of the CORD-19 documents, then we use the fine-tuned BERT to re-rank this list. \n",
        "\n",
        "We use a BERT-base (12 layers, 768 hidden size) fine-tuned on Ms Marco passage set with a marking strategy that puts focus on exact match signals between query and document terms. We use a full ranking strategy with two stages: in the first stage, we use Anserini Bm25+ RM3 to retrieve top-1000 candidate documents for each topic using an index on the title+abstract of the CORD-19 documents, then we use the fine-tuned BERT to re-rank this list."
      ]
    }
  ]
}